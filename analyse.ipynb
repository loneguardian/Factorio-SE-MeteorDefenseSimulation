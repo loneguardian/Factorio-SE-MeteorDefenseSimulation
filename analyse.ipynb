{
 "cells": [
  {
   "cell_type": "code",
   "execution_count": 1,
   "metadata": {},
   "outputs": [
    {
     "data": {
      "text/html": [
       "<div><style>\n",
       ".dataframe > thead > tr,\n",
       ".dataframe > tbody > tr {\n",
       "  text-align: right;\n",
       "  white-space: pre-wrap;\n",
       "}\n",
       "</style>\n",
       "<small>shape: (9, 6)</small><table border=\"1\" class=\"dataframe\"><thead><tr><th>statistic</th><th>meteor</th><th>mdi_ready</th><th>shot_fired</th><th>meteor_shot</th><th>remaining</th></tr><tr><td>str</td><td>f64</td><td>f64</td><td>f64</td><td>f64</td><td>f64</td></tr></thead><tbody><tr><td>&quot;count&quot;</td><td>7.0065582e7</td><td>7.0065582e7</td><td>7.0065582e7</td><td>7.0065582e7</td><td>7.0065582e7</td></tr><tr><td>&quot;null_count&quot;</td><td>0.0</td><td>0.0</td><td>0.0</td><td>0.0</td><td>0.0</td></tr><tr><td>&quot;mean&quot;</td><td>1.999794</td><td>23.904229</td><td>2.499683</td><td>1.999779</td><td>0.000015</td></tr><tr><td>&quot;std&quot;</td><td>1.414185</td><td>0.611644</td><td>1.936115</td><td>1.414056</td><td>0.006812</td></tr><tr><td>&quot;min&quot;</td><td>1.0</td><td>0.0</td><td>1.0</td><td>0.0</td><td>0.0</td></tr><tr><td>&quot;25%&quot;</td><td>1.0</td><td>24.0</td><td>1.0</td><td>1.0</td><td>0.0</td></tr><tr><td>&quot;50%&quot;</td><td>1.0</td><td>24.0</td><td>2.0</td><td>1.0</td><td>0.0</td></tr><tr><td>&quot;75%&quot;</td><td>2.0</td><td>24.0</td><td>3.0</td><td>2.0</td><td>0.0</td></tr><tr><td>&quot;max&quot;</td><td>27.0</td><td>24.0</td><td>24.0</td><td>23.0</td><td>13.0</td></tr></tbody></table></div>"
      ],
      "text/plain": [
       "shape: (9, 6)\n",
       "┌────────────┬─────────────┬─────────────┬─────────────┬─────────────┬─────────────┐\n",
       "│ statistic  ┆ meteor      ┆ mdi_ready   ┆ shot_fired  ┆ meteor_shot ┆ remaining   │\n",
       "│ ---        ┆ ---         ┆ ---         ┆ ---         ┆ ---         ┆ ---         │\n",
       "│ str        ┆ f64         ┆ f64         ┆ f64         ┆ f64         ┆ f64         │\n",
       "╞════════════╪═════════════╪═════════════╪═════════════╪═════════════╪═════════════╡\n",
       "│ count      ┆ 7.0065582e7 ┆ 7.0065582e7 ┆ 7.0065582e7 ┆ 7.0065582e7 ┆ 7.0065582e7 │\n",
       "│ null_count ┆ 0.0         ┆ 0.0         ┆ 0.0         ┆ 0.0         ┆ 0.0         │\n",
       "│ mean       ┆ 1.999794    ┆ 23.904229   ┆ 2.499683    ┆ 1.999779    ┆ 0.000015    │\n",
       "│ std        ┆ 1.414185    ┆ 0.611644    ┆ 1.936115    ┆ 1.414056    ┆ 0.006812    │\n",
       "│ min        ┆ 1.0         ┆ 0.0         ┆ 1.0         ┆ 0.0         ┆ 0.0         │\n",
       "│ 25%        ┆ 1.0         ┆ 24.0        ┆ 1.0         ┆ 1.0         ┆ 0.0         │\n",
       "│ 50%        ┆ 1.0         ┆ 24.0        ┆ 2.0         ┆ 1.0         ┆ 0.0         │\n",
       "│ 75%        ┆ 2.0         ┆ 24.0        ┆ 3.0         ┆ 2.0         ┆ 0.0         │\n",
       "│ max        ┆ 27.0        ┆ 24.0        ┆ 24.0        ┆ 23.0        ┆ 13.0        │\n",
       "└────────────┴─────────────┴─────────────┴─────────────┴─────────────┴─────────────┘"
      ]
     },
     "execution_count": 1,
     "metadata": {},
     "output_type": "execute_result"
    }
   ],
   "source": [
    "import polars as pl\n",
    "import polars.selectors as cs\n",
    "from pathlib import Path\n",
    "\n",
    "lf_list = []\n",
    "\n",
    "for path in Path(\"output\").glob(\"*.parquet\"):\n",
    "  lf_list.append(pl.scan_parquet(path))\n",
    "\n",
    "lf: pl.LazyFrame = pl.concat(lf_list).with_columns(\n",
    "  (pl.col(\"meteor\") - pl.col(\"meteor_shot\")).alias(\"remaining\")\n",
    ")\n",
    "\n",
    "lf.drop(\"time\", \"id\").describe()\n"
   ]
  },
  {
   "cell_type": "code",
   "execution_count": 2,
   "metadata": {},
   "outputs": [
    {
     "data": {
      "text/html": [
       "<div><style>\n",
       ".dataframe > thead > tr,\n",
       ".dataframe > tbody > tr {\n",
       "  text-align: right;\n",
       "  white-space: pre-wrap;\n",
       "}\n",
       "</style>\n",
       "<small>shape: (9, 5)</small><table border=\"1\" class=\"dataframe\"><thead><tr><th>statistic</th><th>meteor_sum</th><th>shot_fired_sum</th><th>meteor_shot_sum</th><th>remaining_sum</th></tr><tr><td>str</td><td>f64</td><td>f64</td><td>f64</td><td>f64</td></tr></thead><tbody><tr><td>&quot;count&quot;</td><td>20000.0</td><td>20000.0</td><td>20000.0</td><td>20000.0</td></tr><tr><td>&quot;null_count&quot;</td><td>0.0</td><td>0.0</td><td>0.0</td><td>0.0</td></tr><tr><td>&quot;mean&quot;</td><td>7005.8352</td><td>8757.0856</td><td>7005.78345</td><td>0.05175</td></tr><tr><td>&quot;std&quot;</td><td>105.385057</td><td>140.16681</td><td>105.379617</td><td>0.403956</td></tr><tr><td>&quot;min&quot;</td><td>6613.0</td><td>8110.0</td><td>6613.0</td><td>0.0</td></tr><tr><td>&quot;25%&quot;</td><td>6935.0</td><td>8662.0</td><td>6935.0</td><td>0.0</td></tr><tr><td>&quot;50%&quot;</td><td>7006.0</td><td>8756.0</td><td>7006.0</td><td>0.0</td></tr><tr><td>&quot;75%&quot;</td><td>7076.0</td><td>8851.0</td><td>7076.0</td><td>0.0</td></tr><tr><td>&quot;max&quot;</td><td>7424.0</td><td>9324.0</td><td>7424.0</td><td>13.0</td></tr></tbody></table></div>"
      ],
      "text/plain": [
       "shape: (9, 5)\n",
       "┌────────────┬────────────┬────────────────┬─────────────────┬───────────────┐\n",
       "│ statistic  ┆ meteor_sum ┆ shot_fired_sum ┆ meteor_shot_sum ┆ remaining_sum │\n",
       "│ ---        ┆ ---        ┆ ---            ┆ ---             ┆ ---           │\n",
       "│ str        ┆ f64        ┆ f64            ┆ f64             ┆ f64           │\n",
       "╞════════════╪════════════╪════════════════╪═════════════════╪═══════════════╡\n",
       "│ count      ┆ 20000.0    ┆ 20000.0        ┆ 20000.0         ┆ 20000.0       │\n",
       "│ null_count ┆ 0.0        ┆ 0.0            ┆ 0.0             ┆ 0.0           │\n",
       "│ mean       ┆ 7005.8352  ┆ 8757.0856      ┆ 7005.78345      ┆ 0.05175       │\n",
       "│ std        ┆ 105.385057 ┆ 140.16681      ┆ 105.379617      ┆ 0.403956      │\n",
       "│ min        ┆ 6613.0     ┆ 8110.0         ┆ 6613.0          ┆ 0.0           │\n",
       "│ 25%        ┆ 6935.0     ┆ 8662.0         ┆ 6935.0          ┆ 0.0           │\n",
       "│ 50%        ┆ 7006.0     ┆ 8756.0         ┆ 7006.0          ┆ 0.0           │\n",
       "│ 75%        ┆ 7076.0     ┆ 8851.0         ┆ 7076.0          ┆ 0.0           │\n",
       "│ max        ┆ 7424.0     ┆ 9324.0         ┆ 7424.0          ┆ 13.0          │\n",
       "└────────────┴────────────┴────────────────┴─────────────────┴───────────────┘"
      ]
     },
     "execution_count": 2,
     "metadata": {},
     "output_type": "execute_result"
    }
   ],
   "source": [
    "lf_2 = (\n",
    "  lf.drop(\"time\")\n",
    "  .group_by(\"id\")\n",
    "  .agg(cs.exclude(\"mdi_ready\").sum().name.suffix(\"_sum\"))\n",
    "  .drop(\"id\")\n",
    ")\n",
    "\n",
    "lf_2.describe()\n"
   ]
  },
  {
   "cell_type": "code",
   "execution_count": 3,
   "metadata": {},
   "outputs": [
    {
     "data": {
      "text/html": [
       "<div><style>\n",
       ".dataframe > thead > tr,\n",
       ".dataframe > tbody > tr {\n",
       "  text-align: right;\n",
       "  white-space: pre-wrap;\n",
       "}\n",
       "</style>\n",
       "<small>shape: (10, 2)</small><table border=\"1\" class=\"dataframe\"><thead><tr><th>remaining_sum</th><th>len</th></tr><tr><td>i64</td><td>u32</td></tr></thead><tbody><tr><td>0</td><td>19502</td></tr><tr><td>1</td><td>249</td></tr><tr><td>2</td><td>118</td></tr><tr><td>3</td><td>53</td></tr><tr><td>4</td><td>34</td></tr><tr><td>5</td><td>27</td></tr><tr><td>6</td><td>9</td></tr><tr><td>7</td><td>5</td></tr><tr><td>9</td><td>2</td></tr><tr><td>13</td><td>1</td></tr></tbody></table></div>"
      ],
      "text/plain": [
       "shape: (10, 2)\n",
       "┌───────────────┬───────┐\n",
       "│ remaining_sum ┆ len   │\n",
       "│ ---           ┆ ---   │\n",
       "│ i64           ┆ u32   │\n",
       "╞═══════════════╪═══════╡\n",
       "│ 0             ┆ 19502 │\n",
       "│ 1             ┆ 249   │\n",
       "│ 2             ┆ 118   │\n",
       "│ 3             ┆ 53    │\n",
       "│ 4             ┆ 34    │\n",
       "│ 5             ┆ 27    │\n",
       "│ 6             ┆ 9     │\n",
       "│ 7             ┆ 5     │\n",
       "│ 9             ┆ 2     │\n",
       "│ 13            ┆ 1     │\n",
       "└───────────────┴───────┘"
      ]
     },
     "execution_count": 3,
     "metadata": {},
     "output_type": "execute_result"
    }
   ],
   "source": [
    "lf_2.group_by(\"remaining_sum\").len().sort(\"remaining_sum\").collect()\n"
   ]
  }
 ],
 "metadata": {
  "kernelspec": {
   "display_name": "factorio-se-meteor-sim",
   "language": "python",
   "name": "python3"
  },
  "language_info": {
   "codemirror_mode": {
    "name": "ipython",
    "version": 3
   },
   "file_extension": ".py",
   "mimetype": "text/x-python",
   "name": "python",
   "nbconvert_exporter": "python",
   "pygments_lexer": "ipython3",
   "version": "3.12.2"
  }
 },
 "nbformat": 4,
 "nbformat_minor": 2
}
